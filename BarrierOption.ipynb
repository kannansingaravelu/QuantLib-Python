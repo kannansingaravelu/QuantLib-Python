{
 "cells": [
  {
   "cell_type": "code",
   "execution_count": 1,
   "metadata": {},
   "outputs": [],
   "source": [
    "# Import required library\n",
    "from QuantLib import *"
   ]
  },
  {
   "cell_type": "markdown",
   "metadata": {},
   "source": [
    "## The Barrier Option\n",
    "A Barrier Option is a derivative whose payoff depends on whether the price of the underlying security crosses a pre specified level (called the ‘barrier’) before the expiration."
   ]
  },
  {
   "cell_type": "code",
   "execution_count": 2,
   "metadata": {},
   "outputs": [],
   "source": [
    "# Barrier Option: Up-and-Out Call \n",
    "# Strike 100, Barrier 150, Rebate 50, Exercise date 4 years \n",
    "\n",
    "#Set up the global evaluation date to today\n",
    "today = Date(28,February,2020)\n",
    "Settings.instance().evaluationDate = today\n",
    "\n",
    "# Specify option\n",
    "option = BarrierOption(Barrier.UpOut, 150.0, 50.0, \n",
    "                       PlainVanillaPayoff(Option.Call, 100.0), \n",
    "                       EuropeanExercise(Date(29, February, 2024)))"
   ]
  },
  {
   "cell_type": "markdown",
   "metadata": {},
   "source": [
    "We will now pass the market data: spot price : 100, risk-free rate: 1% and sigma: 30% "
   ]
  },
  {
   "cell_type": "code",
   "execution_count": 3,
   "metadata": {},
   "outputs": [],
   "source": [
    "# Underlying Price\n",
    "u = SimpleQuote(100)\n",
    "# Risk-free Rate\n",
    "r = SimpleQuote(0.01)\n",
    "# Sigma \n",
    "sigma = SimpleQuote(0.30)\n",
    "\n",
    "# Build flat curves and volatility\n",
    "riskFreeCurve = FlatForward(0, TARGET(), QuoteHandle(r), Actual360())\n",
    "volatility = BlackConstantVol(0, TARGET(), QuoteHandle(sigma), Actual360())"
   ]
  },
  {
   "cell_type": "markdown",
   "metadata": {},
   "source": [
    "### Model and Pricing Engine\n",
    "Build the pricing engine by encapsulating the market data in a Black-Scholes process"
   ]
  },
  {
   "cell_type": "code",
   "execution_count": 4,
   "metadata": {},
   "outputs": [],
   "source": [
    "# Stochastic Process\n",
    "process = BlackScholesProcess(QuoteHandle(u), \n",
    "                              YieldTermStructureHandle(riskFreeCurve), \n",
    "                              BlackVolTermStructureHandle(volatility))\n",
    "\n",
    "# Build the engine (based on an analytic formula) and set it to the option for evaluation\n",
    "option.setPricingEngine(AnalyticBarrierEngine(process))"
   ]
  },
  {
   "cell_type": "markdown",
   "metadata": {},
   "source": [
    "### Market Data Changes\n",
    "Change the market data to get new option pricing. "
   ]
  },
  {
   "cell_type": "code",
   "execution_count": 5,
   "metadata": {},
   "outputs": [],
   "source": [
    "# Set initial value and define h\n",
    "u0 = u.value(); h=0.01\n",
    "P0 = option.NPV()\n",
    "\n",
    "# Bump up the price by h\n",
    "u.setValue(u0+h)\n",
    "P_plus = option.NPV()\n",
    "\n",
    "# Bump down the price by h\n",
    "u.setValue(u0-h)\n",
    "P_minus = option.NPV() \n",
    "\n",
    "# Set the price back to its current value\n",
    "u.setValue(u0)"
   ]
  },
  {
   "cell_type": "markdown",
   "metadata": {},
   "source": [
    "### Calculation of Greeks"
   ]
  },
  {
   "cell_type": "code",
   "execution_count": 6,
   "metadata": {},
   "outputs": [],
   "source": [
    "# Calculate Greeks: Delta, Gamma, Vega, Theta, Rho\n",
    "delta = (P_plus - P_minus)/(2*h)\n",
    "gamma = (P_plus - 2*P0 + P_minus)/(h*h)\n",
    "\n",
    "# Update quote for rho calculation\n",
    "r0 = r.value(); h1 = 0.0001\n",
    "r.setValue(r0+h); P_plus = option.NPV()\n",
    "r.setValue(r0)\n",
    "\n",
    "# Rho\n",
    "rho = (P_plus - P0)/h1\n",
    "\n",
    "# Update quote for sigma calculation\n",
    "sigma0 = sigma.value() ; h = 0.0001\n",
    "sigma.setValue(sigma0+h) ; P_plus = option.NPV()\n",
    "sigma.setValue(sigma0)\n",
    "\n",
    "# Vega\n",
    "vega = (P_plus - P0)/h\n",
    "\n",
    "# Update quote to calculate theta\n",
    "Settings.instance().evaluationDate = today+1\n",
    "P1 = option.NPV()\n",
    "h = 1.0/365\n",
    "\n",
    "# Theta\n",
    "theta = (P1-P0)/h"
   ]
  },
  {
   "cell_type": "code",
   "execution_count": 7,
   "metadata": {},
   "outputs": [
    {
     "name": "stdout",
     "output_type": "stream",
     "text": [
      "OptionPrice:  22.06, Delta:  0.52, Gamma:  0.0032, Theta: -5.25, Vega:  41.75, Rho:  7248.60\n"
     ]
    }
   ],
   "source": [
    "print(f'OptionPrice: {P0: .2f}, Delta: {delta: .2f}, Gamma: {gamma: .4f}, Theta: {theta: .2f}, Vega: {vega: .2f}, Rho: {rho: .2f}')"
   ]
  },
  {
   "cell_type": "markdown",
   "metadata": {},
   "source": [
    "Derivatives pricing using QuantLib-Python is part of 'Python For Derivatives' module. For further details, refer http://kannansingaravelu.com"
   ]
  }
 ],
 "metadata": {
  "kernelspec": {
   "display_name": "Python 3",
   "language": "python",
   "name": "python3"
  },
  "language_info": {
   "codemirror_mode": {
    "name": "ipython",
    "version": 3
   },
   "file_extension": ".py",
   "mimetype": "text/x-python",
   "name": "python",
   "nbconvert_exporter": "python",
   "pygments_lexer": "ipython3",
   "version": "3.6.8"
  },
  "toc": {
   "base_numbering": 1,
   "nav_menu": {},
   "number_sections": true,
   "sideBar": true,
   "skip_h1_title": true,
   "title_cell": "Table of Contents",
   "title_sidebar": "Contents",
   "toc_cell": false,
   "toc_position": {},
   "toc_section_display": true,
   "toc_window_display": false
  }
 },
 "nbformat": 4,
 "nbformat_minor": 2
}
